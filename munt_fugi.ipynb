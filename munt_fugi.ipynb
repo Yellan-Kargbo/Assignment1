{
  "nbformat": 4,
  "nbformat_minor": 0,
  "metadata": {
    "kernelspec": {
      "display_name": "Python 3",
      "language": "python",
      "name": "python3"
    },
    "language_info": {
      "codemirror_mode": {
        "name": "ipython",
        "version": 3
      },
      "file_extension": ".py",
      "mimetype": "text/x-python",
      "name": "python",
      "nbconvert_exporter": "python",
      "pygments_lexer": "ipython3",
      "version": "3.8.5"
    },
    "colab": {
      "name": "munt_fugi.ipynb",
      "provenance": [],
      "include_colab_link": true
    }
  },
  "cells": [
    {
      "cell_type": "markdown",
      "metadata": {
        "id": "view-in-github",
        "colab_type": "text"
      },
      "source": [
        "<a href=\"https://colab.research.google.com/github/Yellan-Kargbo/Assignment1/blob/main/munt_fugi.ipynb\" target=\"_parent\"><img src=\"https://colab.research.google.com/assets/colab-badge.svg\" alt=\"Open In Colab\"/></a>"
      ]
    },
    {
      "cell_type": "markdown",
      "metadata": {
        "id": "urjOKNWD0kaV"
      },
      "source": [
        "# [Problem 1.] Minimum numbers of folds over Mt. Fuji"
      ]
    },
    {
      "cell_type": "code",
      "metadata": {
        "id": "HDH7KyH30kao"
      },
      "source": [
        "MOUNT_FUJI = 3776\n",
        "THICKNESS = 0.00008\n",
        "\n",
        "def folds_exceed_height(height=1000, thickness=0.00008):\n",
        "    if height < thickness:\n",
        "        return 0\n",
        "    folded_thickness = 0\n",
        "    i = 0\n",
        "    while height > folded_thickness:\n",
        "        i  += 1\n",
        "        folded_thickness = thickness * 2 ** i\n",
        "    return i\n",
        "\n",
        "print(folds_exceed_height(MOUNT_FUJI ,THICKNESS))"
      ],
      "execution_count": null,
      "outputs": []
    },
    {
      "cell_type": "code",
      "metadata": {
        "id": "lJfOSp7W0kar"
      },
      "source": [
        ""
      ],
      "execution_count": null,
      "outputs": []
    },
    {
      "cell_type": "markdown",
      "metadata": {
        "id": "ONeeXIjT0kas"
      },
      "source": [
        "# [Problem 2] Creating a function corresponding to an arbitrary thickness"
      ]
    },
    {
      "cell_type": "code",
      "metadata": {
        "id": "nF9Pak1z0kat"
      },
      "source": [
        "#The program allow input from the user\n",
        "import math\n",
        "thickness = 0.00008\n",
        "def num_of_fold(distance):\n",
        "    num_of_folds = math.log(distance/thickness)/ math.log(2)\n",
        "    return num_of_folds\n",
        "num_of_folds = num_of_fold(distance = float(input(\"Enter the Distance: \")))\n",
        "print(\"The number of folds is: \", round(num_of_folds), \"Times\")   "
      ],
      "execution_count": null,
      "outputs": []
    },
    {
      "cell_type": "markdown",
      "metadata": {
        "id": "RR3r4Dxm0kav"
      },
      "source": [
        "# calculate how many times you have to bend the paper to reach the \"closest non-Sun star."
      ]
    },
    {
      "cell_type": "markdown",
      "metadata": {
        "id": "pBZc-Puq0kax"
      },
      "source": [
        "Proxima centauri is the the closest star to earth with a distance of 4,208,000,000,000 km."
      ]
    },
    {
      "cell_type": "code",
      "metadata": {
        "id": "wjY3X8j30kay"
      },
      "source": [
        ""
      ],
      "execution_count": null,
      "outputs": []
    },
    {
      "cell_type": "code",
      "metadata": {
        "id": "gS0sOZfJ0kaz"
      },
      "source": [
        "import math\n",
        "thickness = 0.00008\n",
        "def num_of_fold(distance):\n",
        "    num_of_folds = math.log(distance/thickness)/ math.log(2)\n",
        "    return num_of_folds\n",
        "num_of_folds = num_of_fold(distance = 4208000000000)\n",
        "print(\"The number of folds is: \", round(num_of_folds), \"times\")"
      ],
      "execution_count": null,
      "outputs": []
    },
    {
      "cell_type": "markdown",
      "metadata": {
        "id": "4o4QWrn00ka0"
      },
      "source": [
        "# [Problem 3] Required paper length"
      ]
    },
    {
      "cell_type": "code",
      "metadata": {
        "id": "rmR8t8ia0ka0"
      },
      "source": [
        "import math\n",
        "\n",
        "def required_length(number_of_fold, thickness=0.00008):\n",
        "    length = (math.pi * thickness  * (2**number_of_fold + 4) * (2**number_of_fold -1)) / 6\n",
        "    return int(length)\n",
        "\n",
        "print(required_length(\n",
        "    folds_exceed_height(MOUNT_FUJI ,THICKNESS)#FUNCTION FROM PROBLEM ONE\n",
        "))"
      ],
      "execution_count": null,
      "outputs": []
    },
    {
      "cell_type": "markdown",
      "metadata": {
        "id": "y5wWR6o80ka1"
      },
      "source": [
        "## THE LENGTH OF THE PAPER NEEDED TO REACH THE MOON"
      ]
    },
    {
      "cell_type": "code",
      "metadata": {
        "id": "jsPj47pZ0ka2"
      },
      "source": [
        "import math\n",
        "moon = 384400\n",
        "def required_length(number_of_fold, thickness=0.00008):\n",
        "    length = (math.pi * thickness  * (2**number_of_fold + 4) * (2**number_of_fold -1)) / 6\n",
        "    return int(length)\n",
        "\n",
        "print(required_length(\n",
        "    folds_exceed_height(moon ,THICKNESS)#FUNCTION FROM PROBLEM ONE\n",
        "))\n"
      ],
      "execution_count": null,
      "outputs": []
    },
    {
      "cell_type": "code",
      "metadata": {
        "id": "4_ls0qTa0ka3"
      },
      "source": [
        "alpha_centauri = 39924000000000\n",
        "def required_length(number_of_fold, thickness=0.00008):\n",
        "    length = (math.pi * thickness  * (2**number_of_fold + 4) * (2**number_of_fold -1)) / 6\n",
        "    return int(length)\n",
        "\n",
        "print(required_length(\n",
        "    folds_exceed_height(alpha_centauri ,THICKNESS)#FUNCTION FROM PROBLEM ONE\n",
        "))\n"
      ],
      "execution_count": null,
      "outputs": []
    },
    {
      "cell_type": "code",
      "metadata": {
        "id": "9T1IQm3g0ka3"
      },
      "source": [
        ""
      ],
      "execution_count": null,
      "outputs": []
    }
  ]
}
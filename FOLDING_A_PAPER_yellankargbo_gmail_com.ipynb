{
  "nbformat": 4,
  "nbformat_minor": 0,
  "metadata": {
    "kernelspec": {
      "display_name": "Python 3",
      "language": "python",
      "name": "python3"
    },
    "language_info": {
      "codemirror_mode": {
        "name": "ipython",
        "version": 3
      },
      "file_extension": ".py",
      "mimetype": "text/x-python",
      "name": "python",
      "nbconvert_exporter": "python",
      "pygments_lexer": "ipython3",
      "version": "3.8.5"
    },
    "colab": {
      "name": "FOLDING A PAPER yellankargbo@gmail.com.ipynb",
      "provenance": [],
      "toc_visible": true,
      "include_colab_link": true
    }
  },
  "cells": [
    {
      "cell_type": "markdown",
      "metadata": {
        "id": "view-in-github",
        "colab_type": "text"
      },
      "source": [
        "<a href=\"https://colab.research.google.com/github/Yellan-Kargbo/Assignment1/blob/main/FOLDING_A_PAPER_yellankargbo_gmail_com.ipynb\" target=\"_parent\"><img src=\"https://colab.research.google.com/assets/colab-badge.svg\" alt=\"Open In Colab\"/></a>"
      ]
    },
    {
      "cell_type": "markdown",
      "metadata": {
        "id": "ytEig9Gl4QHy"
      },
      "source": [
        "#  [Problem.1] Creating by using the exponentiation arithmetic operator"
      ]
    },
    {
      "cell_type": "code",
      "metadata": {
        "id": "mj9z81iQ4QH7",
        "outputId": "ad6f8f58-66eb-43bd-80e0-70b72b64ea60"
      },
      "source": [
        "THICKNESS = 0.00008\n",
        "folded_thickness = THICKNESS*2**43\n",
        "print(\"Thickness： {} meters\".format(folded_thickness))"
      ],
      "execution_count": null,
      "outputs": [
        {
          "output_type": "stream",
          "text": [
            "Thickness： 703687441.77664 meters\n"
          ],
          "name": "stdout"
        }
      ]
    },
    {
      "cell_type": "markdown",
      "metadata": {
        "id": "UoLO0RZL4l51"
      },
      "source": [
        ""
      ]
    },
    {
      "cell_type": "markdown",
      "metadata": {
        "id": "cj-NhjeJ4QH9"
      },
      "source": [
        "[Problem 2] Unit Conversion"
      ]
    },
    {
      "cell_type": "code",
      "metadata": {
        "id": "BOD8VJUS4QH9",
        "outputId": "1af0e51a-535a-4775-f23f-b106cfaacf22"
      },
      "source": [
        "#convert a meter into a kilometer and display it in two decimal places\n",
        "print(\"Thickness： {:.2f}km\".format(folded_thickness/10000))\n"
      ],
      "execution_count": null,
      "outputs": [
        {
          "output_type": "stream",
          "text": [
            "Thickness： 70368.74km\n"
          ],
          "name": "stdout"
        }
      ]
    },
    {
      "cell_type": "markdown",
      "metadata": {
        "id": "-EXCO16K4QH-"
      },
      "source": [
        "Distance to the Moon is 384,400 km But the paper is 70368.74km\n",
        "So the paper did not reach the moon"
      ]
    },
    {
      "cell_type": "markdown",
      "metadata": {
        "id": "JIzlsmV54QH-"
      },
      "source": [
        "[Problem 3] Create using a for statement"
      ]
    },
    {
      "cell_type": "code",
      "metadata": {
        "id": "R-u-9BzR4QH_"
      },
      "source": [
        "def paper(num_folds=43, thickness=0.00008):\n",
        "    for i in range(1, num_folds + 1):\n",
        "        thickness = thickness *2*2*2*2*2*2*2*2*2*2*2*2*2*2*2*2*2*2*2*2*2*2*2*2*2*2*2*2*2*2*2*2*2*2*2*2*2*2*2*2*2*2*2\n",
        "        print(\"Thickness： {} meters\".format(thickness))\n",
        "        if thickness >= 10000:\n",
        "            #convert to kilometer\n",
        "            print(\"Thickness： {:.2f}km\".format(thickness/10000))\n",
        "        else:\n",
        "            #convert to meter\n",
        "           \n",
        "            print(\"Thickness： {:.2f}meter\".format(thickness/1000))\n",
        "                \n",
        "\n",
        "\n",
        "                \n",
        "    "
      ],
      "execution_count": null,
      "outputs": []
    },
    {
      "cell_type": "markdown",
      "metadata": {
        "id": "jw-zDzqz4QH_"
      },
      "source": [
        "# [Problem4.] The Comparison of calculation time are as follow."
      ]
    },
    {
      "cell_type": "code",
      "metadata": {
        "id": "u83dmY3U4QIA"
      },
      "source": [
        "import time\n",
        "\n",
        "start = time.time()\n",
        "THICKNESS = 0.00008\n",
        "folded_thickness = THICKNESS*2**43\n",
        "print(\"Thickness： {} meters\".format(folded_thickness))\n",
        "elapsed_time = time.time() - start\n",
        "print(\"time : {} sec\".format(elapsed_time))\n",
        "\n"
      ],
      "execution_count": null,
      "outputs": []
    },
    {
      "cell_type": "code",
      "metadata": {
        "id": "3_f5ocUs4QIA"
      },
      "source": [
        "%%timeit\n",
        "folded_thickness = THICKNESS*2**43\n",
        "folded_thickness\n"
      ],
      "execution_count": null,
      "outputs": []
    },
    {
      "cell_type": "markdown",
      "metadata": {
        "id": "fiAkX-J-4QIA"
      },
      "source": [
        "|[Problem 5] Saving to a list"
      ]
    },
    {
      "cell_type": "code",
      "metadata": {
        "id": "wglRlEqr4QIB"
      },
      "source": [
        "#Creating an empty list\n",
        "list1 = [0.00008]\n",
        "fold_num = 43\n",
        "thickness = 0.00008\n",
        "\n",
        "#folded_thickness = \n",
        "for i in range(1, fold_num + 1):\n",
        "    folded_thickness = thickness*2**i\n",
        "    \n",
        "    #Adding values to the list\n",
        "    list1.append(folded_thickness)\n",
        "    print(list1)\n",
        "    print(len(list1))"
      ],
      "execution_count": null,
      "outputs": []
    },
    {
      "cell_type": "code",
      "metadata": {
        "id": "lYRVdRTi4QIB"
      },
      "source": [
        "print(len(list1))"
      ],
      "execution_count": null,
      "outputs": []
    },
    {
      "cell_type": "markdown",
      "metadata": {
        "id": "dwA7ibG64QIB"
      },
      "source": [
        "# PROBLEM 6- DISPLAYING A LINE GRAPH"
      ]
    },
    {
      "cell_type": "code",
      "metadata": {
        "id": "-vBdc0km4QIC"
      },
      "source": [
        "import matplotlib.pyplot as plt\n",
        "#%matplotlib inline\n",
        "\n",
        "plt.title(\"thickness of folded paper\")\n",
        "plt.xlabel(\"number of folds\")\n",
        "plt.ylabel(\"thickness[M]\")\n",
        "plt.tick_params(labelsize=10)\n",
        "plt.plot(list1)\n",
        "plt.show()"
      ],
      "execution_count": null,
      "outputs": []
    },
    {
      "cell_type": "markdown",
      "metadata": {
        "id": "rGu15bgZ4QIC"
      },
      "source": [
        "FROM THE GRAPH, IT IS OBSERVED THAT THE THICKNESS OF THE INCREASES WHEN THE NUMBER OF FOLDS INCREASES. THERE IS SLOW AND GRADUAL INCREAMENT IN THE THICKNESS OF THE PAPER.\n"
      ]
    },
    {
      "cell_type": "markdown",
      "metadata": {
        "id": "FPPhaxlT4QIC"
      },
      "source": [
        "PROBLEM 7- Customizing graphs"
      ]
    },
    {
      "cell_type": "code",
      "metadata": {
        "id": "W6UQB-Yj4QID"
      },
      "source": [
        "#Making the line dotted\n",
        "plt.title(\"thickness of folded paper\")\n",
        "plt.xlabel(\"number of folds\")\n",
        "plt.ylabel(\"thickness[M]\")\n",
        "#changing line style and color\n",
        "plt.plot(list1, 'ro' )\n",
        "\n",
        "plt.figure(figsize=(48, 24))\n",
        "plt.show()"
      ],
      "execution_count": null,
      "outputs": []
    },
    {
      "cell_type": "code",
      "metadata": {
        "id": "LaUoAQM_4QID"
      },
      "source": [
        "plt.title(\"thickness of folded paper\")\n",
        "plt.xlabel(\"number of folds\")\n",
        "plt.ylabel(\"thickness[M]\")\n",
        "#changing line style and color\n",
        "plt.plot(list1, linewidth=3.0, color='red' )\n",
        "plt.tick_params(labelsize=20)\n",
        "plt.figure(figsize=(48, 24))\n",
        "plt.show()\n",
        "\n"
      ],
      "execution_count": null,
      "outputs": []
    },
    {
      "cell_type": "code",
      "metadata": {
        "id": "s587JdbM4QID"
      },
      "source": [
        ""
      ],
      "execution_count": null,
      "outputs": []
    },
    {
      "cell_type": "code",
      "metadata": {
        "id": "vdY99GX84QID"
      },
      "source": [
        ""
      ],
      "execution_count": null,
      "outputs": []
    }
  ]
}
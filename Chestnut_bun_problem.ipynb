{
  "nbformat": 4,
  "nbformat_minor": 0,
  "metadata": {
    "kernelspec": {
      "display_name": "Python 3",
      "language": "python",
      "name": "python3"
    },
    "language_info": {
      "codemirror_mode": {
        "name": "ipython",
        "version": 3
      },
      "file_extension": ".py",
      "mimetype": "text/x-python",
      "name": "python",
      "nbconvert_exporter": "python",
      "pygments_lexer": "ipython3",
      "version": "3.8.5"
    },
    "colab": {
      "name": "Chestnut_bun_problem.ipynb",
      "provenance": [],
      "include_colab_link": true
    }
  },
  "cells": [
    {
      "cell_type": "markdown",
      "metadata": {
        "id": "view-in-github",
        "colab_type": "text"
      },
      "source": [
        "<a href=\"https://colab.research.google.com/github/Yellan-Kargbo/Assignment1/blob/main/Chestnut_bun_problem.ipynb\" target=\"_parent\"><img src=\"https://colab.research.google.com/assets/colab-badge.svg\" alt=\"Open In Colab\"/></a>"
      ]
    },
    {
      "cell_type": "markdown",
      "metadata": {
        "id": "TEdvad6F4Zqy"
      },
      "source": [
        "The chestnut bun problem Assignment"
      ]
    },
    {
      "cell_type": "code",
      "metadata": {
        "id": "hdJuDAhO4Zq6"
      },
      "source": [
        "import math\n",
        "chestnut_cake = 6 * 4 * 3 /1000000\n",
        "solar_system = math.pi * 3 * (15 * 10 **15)**3 / 4\n",
        "\n",
        "def minutes_covering(sprinkle_size, compared_size):\n",
        "    count = 0\n",
        "    while sprinkle_size < original_size:\n",
        "        \n",
        "        sprinkle_size *= 2\n",
        "        count += 1\n",
        "    minute = count * 5   \n",
        "    return minute\n",
        "\n",
        "\n",
        "print(minutes_covering(chestnut_cake, solar_system))"
      ],
      "execution_count": null,
      "outputs": []
    },
    {
      "cell_type": "markdown",
      "metadata": {
        "id": "b3sOBklS4Zq7"
      },
      "source": [
        "THE TIME IT TAKE FOR THE TOKYO DOME TO FILL UP IS AS FOLLOWS"
      ]
    },
    {
      "cell_type": "code",
      "metadata": {
        "id": "vRrM0vuA4Zq8"
      },
      "source": [
        "tokyo_dome = 1240000 \n",
        "print(minutes_covering(chestnut_cake, tokyo_dome))"
      ],
      "execution_count": null,
      "outputs": []
    },
    {
      "cell_type": "code",
      "metadata": {
        "id": "T3yhnM2D4Zq8"
      },
      "source": [
        ""
      ],
      "execution_count": null,
      "outputs": []
    }
  ]
}